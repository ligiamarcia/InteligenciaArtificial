{
  "nbformat": 4,
  "nbformat_minor": 0,
  "metadata": {
    "colab": {
      "name": "Implementacao_TF_IA_NeuralSymbolic.ipynb",
      "provenance": [],
      "collapsed_sections": [],
      "include_colab_link": true
    },
    "kernelspec": {
      "name": "python3",
      "display_name": "Python 3"
    },
    "language_info": {
      "name": "python"
    }
  },
  "cells": [
    {
      "cell_type": "markdown",
      "metadata": {
        "id": "view-in-github",
        "colab_type": "text"
      },
      "source": [
        "<a href=\"https://colab.research.google.com/github/ligiamarcia/InteligenciaArtificial/blob/main/Implementacao_TF_IA_NeuralSymbolic.ipynb\" target=\"_parent\"><img src=\"https://colab.research.google.com/assets/colab-badge.svg\" alt=\"Open In Colab\"/></a>"
      ]
    },
    {
      "cell_type": "markdown",
      "source": [
        "# Universidade Federal do amazonas\n",
        "\n",
        "\n",
        "![Logo da UFAM](https://2020vestibular.com/wp-content/uploads/2017/12/UFAM-2020-e1570295022130.jpg)"
      ],
      "metadata": {
        "id": "pdggokX7QCBk"
      }
    },
    {
      "cell_type": "markdown",
      "source": [
        "# Trabalho Final da disciplina de Inteligência Artificial\n",
        "## Ministrada pelo Professor Edjar Mota\n",
        "*Equipe: Lígia Marcia do Nascimento Teixeira, Eriky Rodrigues de Souza,*\n",
        " \n",
        "*Mateus Mota Nóbrega e Gabriel Cesar Tavares Ferreira* \n"
      ],
      "metadata": {
        "id": "_kzR1p3QLN63"
      }
    },
    {
      "cell_type": "markdown",
      "source": [
        "# Dependencias\n"
      ],
      "metadata": {
        "id": "g1PofOQp4Fpt"
      }
    },
    {
      "cell_type": "code",
      "source": [
        "#!pip install keras-rectified-adam\n",
        "!pip install sklearn\n",
        "!pip install --upgrade gspread    #para uso do google sheets\n"
      ],
      "metadata": {
        "colab": {
          "base_uri": "https://localhost:8080/"
        },
        "id": "ESiupWWS4OjM",
        "outputId": "e346661d-f7d0-4a8d-bb83-fedb2f156316"
      },
      "execution_count": 149,
      "outputs": [
        {
          "output_type": "stream",
          "name": "stdout",
          "text": [
            "Requirement already satisfied: sklearn in /usr/local/lib/python3.7/dist-packages (0.0)\n",
            "Requirement already satisfied: scikit-learn in /usr/local/lib/python3.7/dist-packages (from sklearn) (1.0.2)\n",
            "Requirement already satisfied: numpy>=1.14.6 in /usr/local/lib/python3.7/dist-packages (from scikit-learn->sklearn) (1.21.6)\n",
            "Requirement already satisfied: threadpoolctl>=2.0.0 in /usr/local/lib/python3.7/dist-packages (from scikit-learn->sklearn) (3.1.0)\n",
            "Requirement already satisfied: joblib>=0.11 in /usr/local/lib/python3.7/dist-packages (from scikit-learn->sklearn) (1.1.0)\n",
            "Requirement already satisfied: scipy>=1.1.0 in /usr/local/lib/python3.7/dist-packages (from scikit-learn->sklearn) (1.4.1)\n",
            "Requirement already satisfied: gspread in /usr/local/lib/python3.7/dist-packages (5.3.2)\n",
            "Requirement already satisfied: google-auth>=1.12.0 in /usr/local/lib/python3.7/dist-packages (from gspread) (1.35.0)\n",
            "Requirement already satisfied: google-auth-oauthlib>=0.4.1 in /usr/local/lib/python3.7/dist-packages (from gspread) (0.4.6)\n",
            "Requirement already satisfied: rsa<5,>=3.1.4 in /usr/local/lib/python3.7/dist-packages (from google-auth>=1.12.0->gspread) (4.8)\n",
            "Requirement already satisfied: pyasn1-modules>=0.2.1 in /usr/local/lib/python3.7/dist-packages (from google-auth>=1.12.0->gspread) (0.2.8)\n",
            "Requirement already satisfied: cachetools<5.0,>=2.0.0 in /usr/local/lib/python3.7/dist-packages (from google-auth>=1.12.0->gspread) (4.2.4)\n",
            "Requirement already satisfied: setuptools>=40.3.0 in /usr/local/lib/python3.7/dist-packages (from google-auth>=1.12.0->gspread) (57.4.0)\n",
            "Requirement already satisfied: six>=1.9.0 in /usr/local/lib/python3.7/dist-packages (from google-auth>=1.12.0->gspread) (1.15.0)\n",
            "Requirement already satisfied: requests-oauthlib>=0.7.0 in /usr/local/lib/python3.7/dist-packages (from google-auth-oauthlib>=0.4.1->gspread) (1.3.1)\n",
            "Requirement already satisfied: pyasn1<0.5.0,>=0.4.6 in /usr/local/lib/python3.7/dist-packages (from pyasn1-modules>=0.2.1->google-auth>=1.12.0->gspread) (0.4.8)\n",
            "Requirement already satisfied: requests>=2.0.0 in /usr/local/lib/python3.7/dist-packages (from requests-oauthlib>=0.7.0->google-auth-oauthlib>=0.4.1->gspread) (2.23.0)\n",
            "Requirement already satisfied: oauthlib>=3.0.0 in /usr/local/lib/python3.7/dist-packages (from requests-oauthlib>=0.7.0->google-auth-oauthlib>=0.4.1->gspread) (3.2.0)\n",
            "Requirement already satisfied: idna<3,>=2.5 in /usr/local/lib/python3.7/dist-packages (from requests>=2.0.0->requests-oauthlib>=0.7.0->google-auth-oauthlib>=0.4.1->gspread) (2.10)\n",
            "Requirement already satisfied: certifi>=2017.4.17 in /usr/local/lib/python3.7/dist-packages (from requests>=2.0.0->requests-oauthlib>=0.7.0->google-auth-oauthlib>=0.4.1->gspread) (2021.10.8)\n",
            "Requirement already satisfied: urllib3!=1.25.0,!=1.25.1,<1.26,>=1.21.1 in /usr/local/lib/python3.7/dist-packages (from requests>=2.0.0->requests-oauthlib>=0.7.0->google-auth-oauthlib>=0.4.1->gspread) (1.24.3)\n",
            "Requirement already satisfied: chardet<4,>=3.0.2 in /usr/local/lib/python3.7/dist-packages (from requests>=2.0.0->requests-oauthlib>=0.7.0->google-auth-oauthlib>=0.4.1->gspread) (3.0.4)\n"
          ]
        }
      ]
    },
    {
      "cell_type": "code",
      "source": [
        "import tqdm\n",
        "import numpy as np\n",
        "import pandas as pd\n",
        "from sklearn.model_selection import LeaveOneOut, KFold\n",
        "from sklearn.model_selection import train_test_split\n",
        "#from sklearn.cross_validation import train_test_split\n",
        "import keras \n",
        "from keras.models import Sequential, Model\n",
        "from keras.layers import Dense, Input, concatenate\n",
        "from keras.losses import binary_crossentropy\n",
        "from keras.utils.vis_utils import plot_model\n",
        "#from keras_radam import RAdam\n",
        "import matplotlib.pyplot as plt\n",
        "import warnings\n",
        "warnings.filterwarnings('ignore')"
      ],
      "metadata": {
        "id": "TSBVSHQh4t41"
      },
      "execution_count": 150,
      "outputs": []
    },
    {
      "cell_type": "code",
      "source": [
        "# necessário somente se você quiser rodar no google colab, que é o meu caso. \n",
        "from google.colab import drive\n",
        "drive.mount('/content/drive/')"
      ],
      "metadata": {
        "id": "ceKOym4L5kSu",
        "colab": {
          "base_uri": "https://localhost:8080/"
        },
        "outputId": "23c1da2f-9e5b-4206-c08f-22acd748e64e"
      },
      "execution_count": 151,
      "outputs": [
        {
          "output_type": "stream",
          "name": "stdout",
          "text": [
            "Drive already mounted at /content/drive/; to attempt to forcibly remount, call drive.mount(\"/content/drive/\", force_remount=True).\n"
          ]
        }
      ]
    },
    {
      "cell_type": "markdown",
      "source": [
        "# Carregando os dados a partir do Google Planilhas"
      ],
      "metadata": {
        "id": "XsHfW4r75m3L"
      }
    },
    {
      "cell_type": "code",
      "execution_count": 152,
      "metadata": {
        "id": "6d0xJz3VzLOo"
      },
      "outputs": [],
      "source": [
        "#Aqui estaremos usando os valores da spreedsheet do google\n",
        "from google.colab import auth\n",
        "auth.authenticate_user()\n",
        " \n",
        "import gspread\n",
        "from google.auth import default\n",
        "creds, _ = default()\n",
        "\n",
        "gc = gspread.authorize(creds)"
      ]
    },
    {
      "cell_type": "code",
      "source": [
        "data = gc.open('db_v1')  #abrindo a planilha 'db' do google drive\n",
        "page = data.sheet1\n",
        "data = pd.DataFrame(page.get_all_records())\n",
        "data  #guarda os valores originais da base"
      ],
      "metadata": {
        "id": "Mx8I4o1f2FLJ",
        "colab": {
          "base_uri": "https://localhost:8080/",
          "height": 300
        },
        "outputId": "c464306e-0340-4cc3-ddc2-2467ed5ea84b"
      },
      "execution_count": 169,
      "outputs": [
        {
          "output_type": "execute_result",
          "data": {
            "text/plain": [
              "  nome  female(X)  male(X)  parent(X_Y)  parent(Y_X)  female(Y)  male(Y)  \\\n",
              "0  Tom          0        1            1            0          1        0   \n",
              "1  Bob          0        1            1            0          1        0   \n",
              "2  Ann          1        0            1            0          1        0   \n",
              "3  Pam          1        0            1            0          0        1   \n",
              "4  Pat          1        0            1            0          0        1   \n",
              "5  Liz          1        0            0            1          0        0   \n",
              "6  Eve          1        0            0            1          0        0   \n",
              "7  Jim          0        1            0            1          0        0   \n",
              "\n",
              "   hd(X)  \n",
              "0      1  \n",
              "1      1  \n",
              "2      1  \n",
              "3     -1  \n",
              "4     -1  \n",
              "5     -1  \n",
              "6     -1  \n",
              "7     -1  "
            ],
            "text/html": [
              "\n",
              "  <div id=\"df-c7387aad-3842-49ec-9f36-db629b284114\">\n",
              "    <div class=\"colab-df-container\">\n",
              "      <div>\n",
              "<style scoped>\n",
              "    .dataframe tbody tr th:only-of-type {\n",
              "        vertical-align: middle;\n",
              "    }\n",
              "\n",
              "    .dataframe tbody tr th {\n",
              "        vertical-align: top;\n",
              "    }\n",
              "\n",
              "    .dataframe thead th {\n",
              "        text-align: right;\n",
              "    }\n",
              "</style>\n",
              "<table border=\"1\" class=\"dataframe\">\n",
              "  <thead>\n",
              "    <tr style=\"text-align: right;\">\n",
              "      <th></th>\n",
              "      <th>nome</th>\n",
              "      <th>female(X)</th>\n",
              "      <th>male(X)</th>\n",
              "      <th>parent(X_Y)</th>\n",
              "      <th>parent(Y_X)</th>\n",
              "      <th>female(Y)</th>\n",
              "      <th>male(Y)</th>\n",
              "      <th>hd(X)</th>\n",
              "    </tr>\n",
              "  </thead>\n",
              "  <tbody>\n",
              "    <tr>\n",
              "      <th>0</th>\n",
              "      <td>Tom</td>\n",
              "      <td>0</td>\n",
              "      <td>1</td>\n",
              "      <td>1</td>\n",
              "      <td>0</td>\n",
              "      <td>1</td>\n",
              "      <td>0</td>\n",
              "      <td>1</td>\n",
              "    </tr>\n",
              "    <tr>\n",
              "      <th>1</th>\n",
              "      <td>Bob</td>\n",
              "      <td>0</td>\n",
              "      <td>1</td>\n",
              "      <td>1</td>\n",
              "      <td>0</td>\n",
              "      <td>1</td>\n",
              "      <td>0</td>\n",
              "      <td>1</td>\n",
              "    </tr>\n",
              "    <tr>\n",
              "      <th>2</th>\n",
              "      <td>Ann</td>\n",
              "      <td>1</td>\n",
              "      <td>0</td>\n",
              "      <td>1</td>\n",
              "      <td>0</td>\n",
              "      <td>1</td>\n",
              "      <td>0</td>\n",
              "      <td>1</td>\n",
              "    </tr>\n",
              "    <tr>\n",
              "      <th>3</th>\n",
              "      <td>Pam</td>\n",
              "      <td>1</td>\n",
              "      <td>0</td>\n",
              "      <td>1</td>\n",
              "      <td>0</td>\n",
              "      <td>0</td>\n",
              "      <td>1</td>\n",
              "      <td>-1</td>\n",
              "    </tr>\n",
              "    <tr>\n",
              "      <th>4</th>\n",
              "      <td>Pat</td>\n",
              "      <td>1</td>\n",
              "      <td>0</td>\n",
              "      <td>1</td>\n",
              "      <td>0</td>\n",
              "      <td>0</td>\n",
              "      <td>1</td>\n",
              "      <td>-1</td>\n",
              "    </tr>\n",
              "    <tr>\n",
              "      <th>5</th>\n",
              "      <td>Liz</td>\n",
              "      <td>1</td>\n",
              "      <td>0</td>\n",
              "      <td>0</td>\n",
              "      <td>1</td>\n",
              "      <td>0</td>\n",
              "      <td>0</td>\n",
              "      <td>-1</td>\n",
              "    </tr>\n",
              "    <tr>\n",
              "      <th>6</th>\n",
              "      <td>Eve</td>\n",
              "      <td>1</td>\n",
              "      <td>0</td>\n",
              "      <td>0</td>\n",
              "      <td>1</td>\n",
              "      <td>0</td>\n",
              "      <td>0</td>\n",
              "      <td>-1</td>\n",
              "    </tr>\n",
              "    <tr>\n",
              "      <th>7</th>\n",
              "      <td>Jim</td>\n",
              "      <td>0</td>\n",
              "      <td>1</td>\n",
              "      <td>0</td>\n",
              "      <td>1</td>\n",
              "      <td>0</td>\n",
              "      <td>0</td>\n",
              "      <td>-1</td>\n",
              "    </tr>\n",
              "  </tbody>\n",
              "</table>\n",
              "</div>\n",
              "      <button class=\"colab-df-convert\" onclick=\"convertToInteractive('df-c7387aad-3842-49ec-9f36-db629b284114')\"\n",
              "              title=\"Convert this dataframe to an interactive table.\"\n",
              "              style=\"display:none;\">\n",
              "        \n",
              "  <svg xmlns=\"http://www.w3.org/2000/svg\" height=\"24px\"viewBox=\"0 0 24 24\"\n",
              "       width=\"24px\">\n",
              "    <path d=\"M0 0h24v24H0V0z\" fill=\"none\"/>\n",
              "    <path d=\"M18.56 5.44l.94 2.06.94-2.06 2.06-.94-2.06-.94-.94-2.06-.94 2.06-2.06.94zm-11 1L8.5 8.5l.94-2.06 2.06-.94-2.06-.94L8.5 2.5l-.94 2.06-2.06.94zm10 10l.94 2.06.94-2.06 2.06-.94-2.06-.94-.94-2.06-.94 2.06-2.06.94z\"/><path d=\"M17.41 7.96l-1.37-1.37c-.4-.4-.92-.59-1.43-.59-.52 0-1.04.2-1.43.59L10.3 9.45l-7.72 7.72c-.78.78-.78 2.05 0 2.83L4 21.41c.39.39.9.59 1.41.59.51 0 1.02-.2 1.41-.59l7.78-7.78 2.81-2.81c.8-.78.8-2.07 0-2.86zM5.41 20L4 18.59l7.72-7.72 1.47 1.35L5.41 20z\"/>\n",
              "  </svg>\n",
              "      </button>\n",
              "      \n",
              "  <style>\n",
              "    .colab-df-container {\n",
              "      display:flex;\n",
              "      flex-wrap:wrap;\n",
              "      gap: 12px;\n",
              "    }\n",
              "\n",
              "    .colab-df-convert {\n",
              "      background-color: #E8F0FE;\n",
              "      border: none;\n",
              "      border-radius: 50%;\n",
              "      cursor: pointer;\n",
              "      display: none;\n",
              "      fill: #1967D2;\n",
              "      height: 32px;\n",
              "      padding: 0 0 0 0;\n",
              "      width: 32px;\n",
              "    }\n",
              "\n",
              "    .colab-df-convert:hover {\n",
              "      background-color: #E2EBFA;\n",
              "      box-shadow: 0px 1px 2px rgba(60, 64, 67, 0.3), 0px 1px 3px 1px rgba(60, 64, 67, 0.15);\n",
              "      fill: #174EA6;\n",
              "    }\n",
              "\n",
              "    [theme=dark] .colab-df-convert {\n",
              "      background-color: #3B4455;\n",
              "      fill: #D2E3FC;\n",
              "    }\n",
              "\n",
              "    [theme=dark] .colab-df-convert:hover {\n",
              "      background-color: #434B5C;\n",
              "      box-shadow: 0px 1px 3px 1px rgba(0, 0, 0, 0.15);\n",
              "      filter: drop-shadow(0px 1px 2px rgba(0, 0, 0, 0.3));\n",
              "      fill: #FFFFFF;\n",
              "    }\n",
              "  </style>\n",
              "\n",
              "      <script>\n",
              "        const buttonEl =\n",
              "          document.querySelector('#df-c7387aad-3842-49ec-9f36-db629b284114 button.colab-df-convert');\n",
              "        buttonEl.style.display =\n",
              "          google.colab.kernel.accessAllowed ? 'block' : 'none';\n",
              "\n",
              "        async function convertToInteractive(key) {\n",
              "          const element = document.querySelector('#df-c7387aad-3842-49ec-9f36-db629b284114');\n",
              "          const dataTable =\n",
              "            await google.colab.kernel.invokeFunction('convertToInteractive',\n",
              "                                                     [key], {});\n",
              "          if (!dataTable) return;\n",
              "\n",
              "          const docLinkHtml = 'Like what you see? Visit the ' +\n",
              "            '<a target=\"_blank\" href=https://colab.research.google.com/notebooks/data_table.ipynb>data table notebook</a>'\n",
              "            + ' to learn more about interactive tables.';\n",
              "          element.innerHTML = '';\n",
              "          dataTable['output_type'] = 'display_data';\n",
              "          await google.colab.output.renderOutput(dataTable, element);\n",
              "          const docLink = document.createElement('div');\n",
              "          docLink.innerHTML = docLinkHtml;\n",
              "          element.appendChild(docLink);\n",
              "        }\n",
              "      </script>\n",
              "    </div>\n",
              "  </div>\n",
              "  "
            ]
          },
          "metadata": {},
          "execution_count": 169
        }
      ]
    },
    {
      "cell_type": "code",
      "source": [
        "df = data   #df guarda os valores sem a primeira coluna de nomes\n",
        "df.drop(['nome'], axis=1, inplace=True)\n",
        "df"
      ],
      "metadata": {
        "id": "KrfoaCfS3Xk4",
        "colab": {
          "base_uri": "https://localhost:8080/",
          "height": 300
        },
        "outputId": "ce04cea7-a987-458a-fb13-6693054eb4a9"
      },
      "execution_count": 170,
      "outputs": [
        {
          "output_type": "execute_result",
          "data": {
            "text/plain": [
              "   female(X)  male(X)  parent(X_Y)  parent(Y_X)  female(Y)  male(Y)  hd(X)\n",
              "0          0        1            1            0          1        0      1\n",
              "1          0        1            1            0          1        0      1\n",
              "2          1        0            1            0          1        0      1\n",
              "3          1        0            1            0          0        1     -1\n",
              "4          1        0            1            0          0        1     -1\n",
              "5          1        0            0            1          0        0     -1\n",
              "6          1        0            0            1          0        0     -1\n",
              "7          0        1            0            1          0        0     -1"
            ],
            "text/html": [
              "\n",
              "  <div id=\"df-84e24570-3d54-48b5-b198-507d6294e723\">\n",
              "    <div class=\"colab-df-container\">\n",
              "      <div>\n",
              "<style scoped>\n",
              "    .dataframe tbody tr th:only-of-type {\n",
              "        vertical-align: middle;\n",
              "    }\n",
              "\n",
              "    .dataframe tbody tr th {\n",
              "        vertical-align: top;\n",
              "    }\n",
              "\n",
              "    .dataframe thead th {\n",
              "        text-align: right;\n",
              "    }\n",
              "</style>\n",
              "<table border=\"1\" class=\"dataframe\">\n",
              "  <thead>\n",
              "    <tr style=\"text-align: right;\">\n",
              "      <th></th>\n",
              "      <th>female(X)</th>\n",
              "      <th>male(X)</th>\n",
              "      <th>parent(X_Y)</th>\n",
              "      <th>parent(Y_X)</th>\n",
              "      <th>female(Y)</th>\n",
              "      <th>male(Y)</th>\n",
              "      <th>hd(X)</th>\n",
              "    </tr>\n",
              "  </thead>\n",
              "  <tbody>\n",
              "    <tr>\n",
              "      <th>0</th>\n",
              "      <td>0</td>\n",
              "      <td>1</td>\n",
              "      <td>1</td>\n",
              "      <td>0</td>\n",
              "      <td>1</td>\n",
              "      <td>0</td>\n",
              "      <td>1</td>\n",
              "    </tr>\n",
              "    <tr>\n",
              "      <th>1</th>\n",
              "      <td>0</td>\n",
              "      <td>1</td>\n",
              "      <td>1</td>\n",
              "      <td>0</td>\n",
              "      <td>1</td>\n",
              "      <td>0</td>\n",
              "      <td>1</td>\n",
              "    </tr>\n",
              "    <tr>\n",
              "      <th>2</th>\n",
              "      <td>1</td>\n",
              "      <td>0</td>\n",
              "      <td>1</td>\n",
              "      <td>0</td>\n",
              "      <td>1</td>\n",
              "      <td>0</td>\n",
              "      <td>1</td>\n",
              "    </tr>\n",
              "    <tr>\n",
              "      <th>3</th>\n",
              "      <td>1</td>\n",
              "      <td>0</td>\n",
              "      <td>1</td>\n",
              "      <td>0</td>\n",
              "      <td>0</td>\n",
              "      <td>1</td>\n",
              "      <td>-1</td>\n",
              "    </tr>\n",
              "    <tr>\n",
              "      <th>4</th>\n",
              "      <td>1</td>\n",
              "      <td>0</td>\n",
              "      <td>1</td>\n",
              "      <td>0</td>\n",
              "      <td>0</td>\n",
              "      <td>1</td>\n",
              "      <td>-1</td>\n",
              "    </tr>\n",
              "    <tr>\n",
              "      <th>5</th>\n",
              "      <td>1</td>\n",
              "      <td>0</td>\n",
              "      <td>0</td>\n",
              "      <td>1</td>\n",
              "      <td>0</td>\n",
              "      <td>0</td>\n",
              "      <td>-1</td>\n",
              "    </tr>\n",
              "    <tr>\n",
              "      <th>6</th>\n",
              "      <td>1</td>\n",
              "      <td>0</td>\n",
              "      <td>0</td>\n",
              "      <td>1</td>\n",
              "      <td>0</td>\n",
              "      <td>0</td>\n",
              "      <td>-1</td>\n",
              "    </tr>\n",
              "    <tr>\n",
              "      <th>7</th>\n",
              "      <td>0</td>\n",
              "      <td>1</td>\n",
              "      <td>0</td>\n",
              "      <td>1</td>\n",
              "      <td>0</td>\n",
              "      <td>0</td>\n",
              "      <td>-1</td>\n",
              "    </tr>\n",
              "  </tbody>\n",
              "</table>\n",
              "</div>\n",
              "      <button class=\"colab-df-convert\" onclick=\"convertToInteractive('df-84e24570-3d54-48b5-b198-507d6294e723')\"\n",
              "              title=\"Convert this dataframe to an interactive table.\"\n",
              "              style=\"display:none;\">\n",
              "        \n",
              "  <svg xmlns=\"http://www.w3.org/2000/svg\" height=\"24px\"viewBox=\"0 0 24 24\"\n",
              "       width=\"24px\">\n",
              "    <path d=\"M0 0h24v24H0V0z\" fill=\"none\"/>\n",
              "    <path d=\"M18.56 5.44l.94 2.06.94-2.06 2.06-.94-2.06-.94-.94-2.06-.94 2.06-2.06.94zm-11 1L8.5 8.5l.94-2.06 2.06-.94-2.06-.94L8.5 2.5l-.94 2.06-2.06.94zm10 10l.94 2.06.94-2.06 2.06-.94-2.06-.94-.94-2.06-.94 2.06-2.06.94z\"/><path d=\"M17.41 7.96l-1.37-1.37c-.4-.4-.92-.59-1.43-.59-.52 0-1.04.2-1.43.59L10.3 9.45l-7.72 7.72c-.78.78-.78 2.05 0 2.83L4 21.41c.39.39.9.59 1.41.59.51 0 1.02-.2 1.41-.59l7.78-7.78 2.81-2.81c.8-.78.8-2.07 0-2.86zM5.41 20L4 18.59l7.72-7.72 1.47 1.35L5.41 20z\"/>\n",
              "  </svg>\n",
              "      </button>\n",
              "      \n",
              "  <style>\n",
              "    .colab-df-container {\n",
              "      display:flex;\n",
              "      flex-wrap:wrap;\n",
              "      gap: 12px;\n",
              "    }\n",
              "\n",
              "    .colab-df-convert {\n",
              "      background-color: #E8F0FE;\n",
              "      border: none;\n",
              "      border-radius: 50%;\n",
              "      cursor: pointer;\n",
              "      display: none;\n",
              "      fill: #1967D2;\n",
              "      height: 32px;\n",
              "      padding: 0 0 0 0;\n",
              "      width: 32px;\n",
              "    }\n",
              "\n",
              "    .colab-df-convert:hover {\n",
              "      background-color: #E2EBFA;\n",
              "      box-shadow: 0px 1px 2px rgba(60, 64, 67, 0.3), 0px 1px 3px 1px rgba(60, 64, 67, 0.15);\n",
              "      fill: #174EA6;\n",
              "    }\n",
              "\n",
              "    [theme=dark] .colab-df-convert {\n",
              "      background-color: #3B4455;\n",
              "      fill: #D2E3FC;\n",
              "    }\n",
              "\n",
              "    [theme=dark] .colab-df-convert:hover {\n",
              "      background-color: #434B5C;\n",
              "      box-shadow: 0px 1px 3px 1px rgba(0, 0, 0, 0.15);\n",
              "      filter: drop-shadow(0px 1px 2px rgba(0, 0, 0, 0.3));\n",
              "      fill: #FFFFFF;\n",
              "    }\n",
              "  </style>\n",
              "\n",
              "      <script>\n",
              "        const buttonEl =\n",
              "          document.querySelector('#df-84e24570-3d54-48b5-b198-507d6294e723 button.colab-df-convert');\n",
              "        buttonEl.style.display =\n",
              "          google.colab.kernel.accessAllowed ? 'block' : 'none';\n",
              "\n",
              "        async function convertToInteractive(key) {\n",
              "          const element = document.querySelector('#df-84e24570-3d54-48b5-b198-507d6294e723');\n",
              "          const dataTable =\n",
              "            await google.colab.kernel.invokeFunction('convertToInteractive',\n",
              "                                                     [key], {});\n",
              "          if (!dataTable) return;\n",
              "\n",
              "          const docLinkHtml = 'Like what you see? Visit the ' +\n",
              "            '<a target=\"_blank\" href=https://colab.research.google.com/notebooks/data_table.ipynb>data table notebook</a>'\n",
              "            + ' to learn more about interactive tables.';\n",
              "          element.innerHTML = '';\n",
              "          dataTable['output_type'] = 'display_data';\n",
              "          await google.colab.output.renderOutput(dataTable, element);\n",
              "          const docLink = document.createElement('div');\n",
              "          docLink.innerHTML = docLinkHtml;\n",
              "          element.appendChild(docLink);\n",
              "        }\n",
              "      </script>\n",
              "    </div>\n",
              "  </div>\n",
              "  "
            ]
          },
          "metadata": {},
          "execution_count": 170
        }
      ]
    },
    {
      "cell_type": "code",
      "source": [
        "#Valor de saída da rede = Y , ou seja a última coluna é o output\n",
        "df_Y = data.iloc[:,6]   # todos os valores de y\n",
        "df_Y"
      ],
      "metadata": {
        "id": "3Pv8fLOR3dN2",
        "colab": {
          "base_uri": "https://localhost:8080/"
        },
        "outputId": "26803c2d-1af9-4b17-b3b0-47591368c5e9"
      },
      "execution_count": 171,
      "outputs": [
        {
          "output_type": "execute_result",
          "data": {
            "text/plain": [
              "0    1\n",
              "1    1\n",
              "2    1\n",
              "3   -1\n",
              "4   -1\n",
              "5   -1\n",
              "6   -1\n",
              "7   -1\n",
              "Name: hd(X), dtype: int64"
            ]
          },
          "metadata": {},
          "execution_count": 171
        }
      ]
    },
    {
      "cell_type": "code",
      "source": [
        "df_X = df  # este dataframe está guardando os valores de input da rede\n",
        "df_X.drop(['hd(X)'], axis=1, inplace=True)\n",
        "df_X "
      ],
      "metadata": {
        "id": "N3EBFiBjDUHE",
        "colab": {
          "base_uri": "https://localhost:8080/",
          "height": 300
        },
        "outputId": "ba99aeb4-cc73-42e2-c27e-6c99b51f85a5"
      },
      "execution_count": 172,
      "outputs": [
        {
          "output_type": "execute_result",
          "data": {
            "text/plain": [
              "   female(X)  male(X)  parent(X_Y)  parent(Y_X)  female(Y)  male(Y)\n",
              "0          0        1            1            0          1        0\n",
              "1          0        1            1            0          1        0\n",
              "2          1        0            1            0          1        0\n",
              "3          1        0            1            0          0        1\n",
              "4          1        0            1            0          0        1\n",
              "5          1        0            0            1          0        0\n",
              "6          1        0            0            1          0        0\n",
              "7          0        1            0            1          0        0"
            ],
            "text/html": [
              "\n",
              "  <div id=\"df-2f1f841a-a645-4470-b30f-ce07f3b92c12\">\n",
              "    <div class=\"colab-df-container\">\n",
              "      <div>\n",
              "<style scoped>\n",
              "    .dataframe tbody tr th:only-of-type {\n",
              "        vertical-align: middle;\n",
              "    }\n",
              "\n",
              "    .dataframe tbody tr th {\n",
              "        vertical-align: top;\n",
              "    }\n",
              "\n",
              "    .dataframe thead th {\n",
              "        text-align: right;\n",
              "    }\n",
              "</style>\n",
              "<table border=\"1\" class=\"dataframe\">\n",
              "  <thead>\n",
              "    <tr style=\"text-align: right;\">\n",
              "      <th></th>\n",
              "      <th>female(X)</th>\n",
              "      <th>male(X)</th>\n",
              "      <th>parent(X_Y)</th>\n",
              "      <th>parent(Y_X)</th>\n",
              "      <th>female(Y)</th>\n",
              "      <th>male(Y)</th>\n",
              "    </tr>\n",
              "  </thead>\n",
              "  <tbody>\n",
              "    <tr>\n",
              "      <th>0</th>\n",
              "      <td>0</td>\n",
              "      <td>1</td>\n",
              "      <td>1</td>\n",
              "      <td>0</td>\n",
              "      <td>1</td>\n",
              "      <td>0</td>\n",
              "    </tr>\n",
              "    <tr>\n",
              "      <th>1</th>\n",
              "      <td>0</td>\n",
              "      <td>1</td>\n",
              "      <td>1</td>\n",
              "      <td>0</td>\n",
              "      <td>1</td>\n",
              "      <td>0</td>\n",
              "    </tr>\n",
              "    <tr>\n",
              "      <th>2</th>\n",
              "      <td>1</td>\n",
              "      <td>0</td>\n",
              "      <td>1</td>\n",
              "      <td>0</td>\n",
              "      <td>1</td>\n",
              "      <td>0</td>\n",
              "    </tr>\n",
              "    <tr>\n",
              "      <th>3</th>\n",
              "      <td>1</td>\n",
              "      <td>0</td>\n",
              "      <td>1</td>\n",
              "      <td>0</td>\n",
              "      <td>0</td>\n",
              "      <td>1</td>\n",
              "    </tr>\n",
              "    <tr>\n",
              "      <th>4</th>\n",
              "      <td>1</td>\n",
              "      <td>0</td>\n",
              "      <td>1</td>\n",
              "      <td>0</td>\n",
              "      <td>0</td>\n",
              "      <td>1</td>\n",
              "    </tr>\n",
              "    <tr>\n",
              "      <th>5</th>\n",
              "      <td>1</td>\n",
              "      <td>0</td>\n",
              "      <td>0</td>\n",
              "      <td>1</td>\n",
              "      <td>0</td>\n",
              "      <td>0</td>\n",
              "    </tr>\n",
              "    <tr>\n",
              "      <th>6</th>\n",
              "      <td>1</td>\n",
              "      <td>0</td>\n",
              "      <td>0</td>\n",
              "      <td>1</td>\n",
              "      <td>0</td>\n",
              "      <td>0</td>\n",
              "    </tr>\n",
              "    <tr>\n",
              "      <th>7</th>\n",
              "      <td>0</td>\n",
              "      <td>1</td>\n",
              "      <td>0</td>\n",
              "      <td>1</td>\n",
              "      <td>0</td>\n",
              "      <td>0</td>\n",
              "    </tr>\n",
              "  </tbody>\n",
              "</table>\n",
              "</div>\n",
              "      <button class=\"colab-df-convert\" onclick=\"convertToInteractive('df-2f1f841a-a645-4470-b30f-ce07f3b92c12')\"\n",
              "              title=\"Convert this dataframe to an interactive table.\"\n",
              "              style=\"display:none;\">\n",
              "        \n",
              "  <svg xmlns=\"http://www.w3.org/2000/svg\" height=\"24px\"viewBox=\"0 0 24 24\"\n",
              "       width=\"24px\">\n",
              "    <path d=\"M0 0h24v24H0V0z\" fill=\"none\"/>\n",
              "    <path d=\"M18.56 5.44l.94 2.06.94-2.06 2.06-.94-2.06-.94-.94-2.06-.94 2.06-2.06.94zm-11 1L8.5 8.5l.94-2.06 2.06-.94-2.06-.94L8.5 2.5l-.94 2.06-2.06.94zm10 10l.94 2.06.94-2.06 2.06-.94-2.06-.94-.94-2.06-.94 2.06-2.06.94z\"/><path d=\"M17.41 7.96l-1.37-1.37c-.4-.4-.92-.59-1.43-.59-.52 0-1.04.2-1.43.59L10.3 9.45l-7.72 7.72c-.78.78-.78 2.05 0 2.83L4 21.41c.39.39.9.59 1.41.59.51 0 1.02-.2 1.41-.59l7.78-7.78 2.81-2.81c.8-.78.8-2.07 0-2.86zM5.41 20L4 18.59l7.72-7.72 1.47 1.35L5.41 20z\"/>\n",
              "  </svg>\n",
              "      </button>\n",
              "      \n",
              "  <style>\n",
              "    .colab-df-container {\n",
              "      display:flex;\n",
              "      flex-wrap:wrap;\n",
              "      gap: 12px;\n",
              "    }\n",
              "\n",
              "    .colab-df-convert {\n",
              "      background-color: #E8F0FE;\n",
              "      border: none;\n",
              "      border-radius: 50%;\n",
              "      cursor: pointer;\n",
              "      display: none;\n",
              "      fill: #1967D2;\n",
              "      height: 32px;\n",
              "      padding: 0 0 0 0;\n",
              "      width: 32px;\n",
              "    }\n",
              "\n",
              "    .colab-df-convert:hover {\n",
              "      background-color: #E2EBFA;\n",
              "      box-shadow: 0px 1px 2px rgba(60, 64, 67, 0.3), 0px 1px 3px 1px rgba(60, 64, 67, 0.15);\n",
              "      fill: #174EA6;\n",
              "    }\n",
              "\n",
              "    [theme=dark] .colab-df-convert {\n",
              "      background-color: #3B4455;\n",
              "      fill: #D2E3FC;\n",
              "    }\n",
              "\n",
              "    [theme=dark] .colab-df-convert:hover {\n",
              "      background-color: #434B5C;\n",
              "      box-shadow: 0px 1px 3px 1px rgba(0, 0, 0, 0.15);\n",
              "      filter: drop-shadow(0px 1px 2px rgba(0, 0, 0, 0.3));\n",
              "      fill: #FFFFFF;\n",
              "    }\n",
              "  </style>\n",
              "\n",
              "      <script>\n",
              "        const buttonEl =\n",
              "          document.querySelector('#df-2f1f841a-a645-4470-b30f-ce07f3b92c12 button.colab-df-convert');\n",
              "        buttonEl.style.display =\n",
              "          google.colab.kernel.accessAllowed ? 'block' : 'none';\n",
              "\n",
              "        async function convertToInteractive(key) {\n",
              "          const element = document.querySelector('#df-2f1f841a-a645-4470-b30f-ce07f3b92c12');\n",
              "          const dataTable =\n",
              "            await google.colab.kernel.invokeFunction('convertToInteractive',\n",
              "                                                     [key], {});\n",
              "          if (!dataTable) return;\n",
              "\n",
              "          const docLinkHtml = 'Like what you see? Visit the ' +\n",
              "            '<a target=\"_blank\" href=https://colab.research.google.com/notebooks/data_table.ipynb>data table notebook</a>'\n",
              "            + ' to learn more about interactive tables.';\n",
              "          element.innerHTML = '';\n",
              "          dataTable['output_type'] = 'display_data';\n",
              "          await google.colab.output.renderOutput(dataTable, element);\n",
              "          const docLink = document.createElement('div');\n",
              "          docLink.innerHTML = docLinkHtml;\n",
              "          element.appendChild(docLink);\n",
              "        }\n",
              "      </script>\n",
              "    </div>\n",
              "  </div>\n",
              "  "
            ]
          },
          "metadata": {},
          "execution_count": 172
        }
      ]
    },
    {
      "cell_type": "code",
      "source": [
        "y = df_Y.values\n",
        "x= df_X.values\n",
        "#transformando os dataframes em arrays por conveniencia de manipulação\n",
        "y"
      ],
      "metadata": {
        "id": "u65rxudE4PcX",
        "colab": {
          "base_uri": "https://localhost:8080/"
        },
        "outputId": "f1b4595a-c905-43a7-b835-c0a8c1cb6788"
      },
      "execution_count": 173,
      "outputs": [
        {
          "output_type": "execute_result",
          "data": {
            "text/plain": [
              "array([ 1,  1,  1, -1, -1, -1, -1, -1])"
            ]
          },
          "metadata": {},
          "execution_count": 173
        }
      ]
    },
    {
      "cell_type": "markdown",
      "source": [
        "Precisamos neste momento separar a base de dados\n",
        "\n",
        "\n",
        "*   Treino\n",
        "*   Teste\n",
        "\n"
      ],
      "metadata": {
        "id": "3Qhjv7zKEbwF"
      }
    },
    {
      "cell_type": "code",
      "source": [
        "#O modo split em porcentagem divide a base de dados(treino e teste),test_size recebe a porcentagem da \n",
        "#base destinada ao teste a rede neural será treinada com o restante\n",
        "x_train, x_test, y_train, y_test = train_test_split(x, y, \n",
        "                                                    test_size=0.30, \n",
        "                                                    random_state=123, \n",
        "                                                    stratify=y)\n",
        "print('\\nx_train: \\n',x_train,'\\ny_train: \\n',y_train,'\\nx_test: \\n',x_test,'\\ny_test: \\n',y_test)"
      ],
      "metadata": {
        "id": "z_FPAf0Q4Es_",
        "colab": {
          "base_uri": "https://localhost:8080/"
        },
        "outputId": "45197742-031e-4234-e6f5-6e2ada866da6"
      },
      "execution_count": 174,
      "outputs": [
        {
          "output_type": "stream",
          "name": "stdout",
          "text": [
            "\n",
            "x_train: \n",
            " [[1 0 1 0 1 0]\n",
            " [1 0 1 0 0 1]\n",
            " [1 0 0 1 0 0]\n",
            " [0 1 1 0 1 0]\n",
            " [0 1 0 1 0 0]] \n",
            "y_train: \n",
            " [ 1 -1 -1  1 -1] \n",
            "x_test: \n",
            " [[0 1 1 0 1 0]\n",
            " [1 0 1 0 0 1]\n",
            " [1 0 0 1 0 0]] \n",
            "y_test: \n",
            " [ 1 -1 -1]\n"
          ]
        }
      ]
    },
    {
      "cell_type": "markdown",
      "source": [
        "# Configuração da Rede Neural"
      ],
      "metadata": {
        "id": "cmK_gIivI5yO"
      }
    },
    {
      "cell_type": "code",
      "source": [
        "epoch = 1000 #Quantidade de iteracoes ou epocas de treinamento\n",
        "lr = 0.1 #Taxa de aprendizagem\n",
        "inputlayer_neurons = x_train.shape[1] #numero de caracteristicas na camada de entrada\n",
        "hiddenlayer_neurons = 6 #numero de neuronios na camada de escondida\n",
        "output_neurons = 1 #numero de neuronios na camada de saida\n",
        "activation_function = 'tanh' #escolha da funcao de ativacao\n",
        "randomic_values = 0 # 1 para valores randomicos de W, 0 para valores inicializados\n"
      ],
      "metadata": {
        "id": "v-FJsnUT4LRn"
      },
      "execution_count": 175,
      "outputs": []
    },
    {
      "cell_type": "code",
      "source": [
        "#Declaração das opções de função de ativação\n",
        "\n",
        "funcs = {'sigmoid':  (lambda x: 1./(1. + np.exp(-x)),\n",
        "                      lambda x: x * (1. - x),1.),\n",
        "            'tanh':  (lambda x: np.tanh(x),\n",
        "                      lambda x: 1. - x*x,0.),\n",
        "        }\n",
        "(activate, deriv_activate,normalization) = funcs[activation_function]"
      ],
      "metadata": {
        "id": "sraS0GAjpgYR"
      },
      "execution_count": 176,
      "outputs": []
    },
    {
      "cell_type": "code",
      "source": [
        "#se função de ativação for 'sigmoid', Y será normalizado para [0 a 1]\n",
        "if (normalization) :\n",
        "    y_test = np.array([1.0 if i==1.0 else 0.0 for i in y_test]).reshape((y_test.shape[0],1))\n",
        "    y_train = np.array([1.0 if i==1.0 else 0.0 for i in y_train]).reshape((y_train.shape[0],1))"
      ],
      "metadata": {
        "id": "kJFFjpV3JzQp"
      },
      "execution_count": 177,
      "outputs": []
    },
    {
      "cell_type": "code",
      "source": [
        "if(randomic_values):\n",
        "    #weight and bias initialization\n",
        "    #pesos da camada escondida\n",
        "    wh=np.random.uniform(size=(inputlayer_neurons,hiddenlayer_neurons))\n",
        "    #bias da camada escondida\n",
        "    bh=np.random.uniform(size=(1,hiddenlayer_neurons))\n",
        "    #pesos da camada de saida\n",
        "    wout=np.random.uniform(size=(hiddenlayer_neurons,output_neurons))\n",
        "    #bias da camada de saida\n",
        "    bout=np.random.uniform(size=(1,output_neurons))\n",
        "else :\n",
        "    #inicialização de pesos e bias conforme calulado na tabela\n",
        "    #pesos da camada escondida\n",
        "    wh = np.full((inputlayer_neurons,hiddenlayer_neurons), 1.0) # peso da camada escondida todos 1\n",
        "    #bias da camada escondida\n",
        "    bh= np.array([1.714285714,1.714285714,1.714285714,1.714285714,0.8571428571,0.8571428571]).reshape((1,hiddenlayer_neurons))\n",
        "    #pesos da camada de saida\n",
        "    wout= np.full((hiddenlayer_neurons,output_neurons),-1.0)\n",
        "    wout[0:2]=1 #peso da camada de saida variando entre 1 e -1, dependendo de clausula positiva ou negativa. 1 = positiva, -1 = negativa.\n",
        "    #bias da camada de saida\n",
        "    bout = np.array([4.285714286]).reshape((1,output_neurons))"
      ],
      "metadata": {
        "id": "bDwMnHXe4rBF"
      },
      "execution_count": 178,
      "outputs": []
    },
    {
      "cell_type": "markdown",
      "source": [
        ""
      ],
      "metadata": {
        "id": "f1KuOyshKEqN"
      }
    },
    {
      "cell_type": "code",
      "source": [
        "print(\"Weight_out\\n\",wout)"
      ],
      "metadata": {
        "id": "CJOuc3E_J_BD",
        "colab": {
          "base_uri": "https://localhost:8080/"
        },
        "outputId": "4821f113-1032-4715-e096-a92ace5a09dd"
      },
      "execution_count": 179,
      "outputs": [
        {
          "output_type": "stream",
          "name": "stdout",
          "text": [
            "Weight_out\n",
            " [[ 1.]\n",
            " [ 1.]\n",
            " [-1.]\n",
            " [-1.]\n",
            " [-1.]\n",
            " [-1.]]\n"
          ]
        }
      ]
    },
    {
      "cell_type": "code",
      "source": [
        ""
      ],
      "metadata": {
        "id": "55T3DXTFKQ61"
      },
      "execution_count": 179,
      "outputs": []
    },
    {
      "cell_type": "markdown",
      "source": [
        "# Treino da Rede Neural"
      ],
      "metadata": {
        "id": "8ijxVO4jKTIt"
      }
    },
    {
      "cell_type": "code",
      "source": [
        "for i in range(epoch):\n",
        "\n",
        "    #Forward Propogation\n",
        "    hidden_layer_input1=np.dot(x_train,wh) \n",
        "    hidden_layer_input=hidden_layer_input1 + bh\n",
        "    hiddenlayer_activations = activate(hidden_layer_input)\n",
        "    output_layer_input1=np.dot(hiddenlayer_activations,wout)\n",
        "    output_layer_input= output_layer_input1+ bout\n",
        "    output = activate(output_layer_input)\n",
        "    \n",
        "    #Backpropagation\n",
        "    E = y_train-output\n",
        "    slope_output_layer = deriv_activate(output)\n",
        "    slope_hidden_layer = deriv_activate(hiddenlayer_activations)\n",
        "    d_output = E*slope_output_layer ##*lr ##\n",
        "    Error_at_hidden_layer = d_output.dot(wout.T)\n",
        "    d_hiddenlayer = Error_at_hidden_layer * slope_hidden_layer\n",
        "    wout = hiddenlayer_activations.T.dot(d_output) *lr +wout\n",
        "    bout = np.sum(d_output, axis=0,keepdims=True) *lr +bout\n",
        "    wh = x_train.T.dot(d_hiddenlayer) *lr +wh\n",
        "    bh = np.sum(d_hiddenlayer, axis=0,keepdims=True) *lr +bh\n"
      ],
      "metadata": {
        "id": "aDPnSsrXU_TY"
      },
      "execution_count": 180,
      "outputs": []
    },
    {
      "cell_type": "code",
      "source": [
        "print(\" Weight_hidden\\n\", wh,  \"\\n\\nBias_hidden\\n\",bh, \"\\n\\nWeight_out\\n\",wout,\"\\n\\nBias_out\\n\",bout)"
      ],
      "metadata": {
        "id": "I9wflL_VpB9k",
        "colab": {
          "base_uri": "https://localhost:8080/"
        },
        "outputId": "ffb9b090-3a7f-45ad-99ea-33b28adb190b"
      },
      "execution_count": 182,
      "outputs": [
        {
          "output_type": "stream",
          "name": "stdout",
          "text": [
            " Weight_hidden\n",
            " [[1. 1. 1. 1. 1. 1.]\n",
            " [1. 1. 1. 1. 1. 1.]\n",
            " [1. 1. 1. 1. 1. 1.]\n",
            " [1. 1. 1. 1. 1. 1.]\n",
            " [1. 1. 1. 1. 1. 1.]\n",
            " [1. 1. 1. 1. 1. 1.]] \n",
            "\n",
            "Bias_hidden\n",
            " [[1.71428571 1.71428571 1.71428571 1.71428571 0.85714286 0.85714286]] \n",
            "\n",
            "Weight_out\n",
            " [[ 1.]\n",
            " [ 1.]\n",
            " [-1.]\n",
            " [-1.]\n",
            " [-1.]\n",
            " [-1.]] \n",
            "\n",
            "Bias_out\n",
            " [[4.28571429]]\n"
          ]
        }
      ]
    },
    {
      "cell_type": "markdown",
      "source": [
        "# Teste da Rede Neural"
      ],
      "metadata": {
        "id": "b3TtWM-3VnaY"
      }
    },
    {
      "cell_type": "code",
      "source": [
        "#Teste da rede neural com Configurações Finais\n",
        "\n",
        "hidden_layer_input1=np.dot(x_test,wh)\n",
        "hidden_layer_input=hidden_layer_input1 + bh\n",
        "hiddenlayer_activations = activate(hidden_layer_input)\n",
        "output_layer_input1=np.dot(hiddenlayer_activations,wout)\n",
        "output_layer_input= output_layer_input1+ bout\n",
        "y_pred = activate(output_layer_input)\n",
        "y_pred #Saída prevista pela rede para x_test"
      ],
      "metadata": {
        "id": "oNcO5d28KlSd",
        "colab": {
          "base_uri": "https://localhost:8080/"
        },
        "outputId": "e47704fc-7dfe-459b-dbba-15baa96116dd"
      },
      "execution_count": 183,
      "outputs": [
        {
          "output_type": "execute_result",
          "data": {
            "text/plain": [
              "array([[0.97959764],\n",
              "       [0.97959764],\n",
              "       [0.98005161]])"
            ]
          },
          "metadata": {},
          "execution_count": 183
        }
      ]
    },
    {
      "cell_type": "markdown",
      "source": [
        "# Avaliando a Rede Neural"
      ],
      "metadata": {
        "id": "6sqDKgoSVvlx"
      }
    },
    {
      "cell_type": "code",
      "source": [
        "y_test #Valores de saída que estávamos esperando para x_test"
      ],
      "metadata": {
        "id": "k_BlyYomV3n6",
        "colab": {
          "base_uri": "https://localhost:8080/"
        },
        "outputId": "f33e48fc-77d5-4ad3-ff83-cc6207428210"
      },
      "execution_count": 184,
      "outputs": [
        {
          "output_type": "execute_result",
          "data": {
            "text/plain": [
              "array([ 1, -1, -1])"
            ]
          },
          "metadata": {},
          "execution_count": 184
        }
      ]
    },
    {
      "cell_type": "code",
      "source": [
        "#Calculo da Acurácia\n",
        "acuracia = metrics.accuracy_score(y_test, y_pred.round())\n",
        "print(\"Accuracy: \",acuracia)\n",
        "\n",
        "warnings.filterwarnings('ignore')\n",
        "\n",
        "# Relatório de avaliação com outras métricas e matriz de confusão\n",
        "print(\"Classification report for classifier :\\n\", metrics.classification_report(df_Y_test, df_Y_pred.round()))\n",
        "print(\"Confusion matrix:\\n\",metrics.confusion_matrix(df_Y_test, df_Y_pred.round()))"
      ],
      "metadata": {
        "id": "QzAJ8Mj8F7ex"
      },
      "execution_count": null,
      "outputs": []
    }
  ]
}